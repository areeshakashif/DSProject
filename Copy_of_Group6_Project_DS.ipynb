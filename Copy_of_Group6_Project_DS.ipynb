{
  "nbformat": 4,
  "nbformat_minor": 0,
  "metadata": {
    "colab": {
      "provenance": []
    },
    "kernelspec": {
      "name": "python3",
      "display_name": "Python 3"
    },
    "language_info": {
      "name": "python"
    }
  },
  "cells": [
    {
      "cell_type": "markdown",
      "source": [],
      "metadata": {
        "id": "utNzVZw5zCjo"
      }
    },
    {
      "cell_type": "markdown",
      "source": [
        "# DS-Project-Assignment\n",
        "\n",
        "##BITF20M025 :LAIBA MUBASHIR\n",
        "##BITF20M020 :AREESHA KASHIF\n"
      ],
      "metadata": {
        "id": "sYTdcLzryodZ"
      }
    },
    {
      "cell_type": "code",
      "execution_count": null,
      "metadata": {
        "colab": {
          "base_uri": "https://localhost:8080/"
        },
        "id": "5YpCapwAXZI6",
        "outputId": "2bdab624-d4d8-425e-d009-66d663681b57"
      },
      "outputs": [
        {
          "output_type": "stream",
          "name": "stdout",
          "text": [
            "Mounted at /content/drive/\n"
          ]
        }
      ],
      "source": [
        "#Connect Google Drive\n",
        "\n",
        "from google.colab import drive\n",
        "drive.mount(\"/content/drive/\")"
      ]
    },
    {
      "cell_type": "code",
      "source": [
        "# Import Libraries\n",
        "import numpy as np\n",
        "import pandas as pd\n",
        "import matplotlib.pyplot as plt\n",
        "from sklearn.svm import SVC\n",
        "from sklearn.metrics import f1_score, accuracy_score, confusion_matrix, recall_score\n",
        "from scipy.stats import skew, kurtosis\n",
        "from numpy import mean, absolute"
      ],
      "metadata": {
        "id": "APUyrSGKdshZ"
      },
      "execution_count": null,
      "outputs": []
    },
    {
      "cell_type": "code",
      "source": [
        "# Load Data\n",
        "\n",
        "path_train = \"/content/drive/MyDrive/DS/bbh/training/\"\n",
        "path_test = \"/content/drive/MyDrive/DS/bbh/testing/\"\n",
        "\n",
        "trainLabels = np.load(path_train + \"trainLabels.npy\")\n",
        "trainMSAccelerometer = np.load(path_train + \"trainMSAccelerometer.npy\")\n",
        "trainMSGyroscope = np.load(path_train + \"trainMSGyroscope.npy\")\n",
        "trainJinsAccelerometer = np.load(path_train + \"trainJinsAccelerometer.npy\")\n",
        "trainJinsGyroscope = np.load(path_train + \"trainJinsGyroscope.npy\")\n",
        "trainAccelerometer = np.load(path_train + \"trainAccelerometer.npy\")\n",
        "trainGravity = np.load(path_train + \"trainGravity.npy\")\n",
        "trainGyroscope = np.load(path_train + \"trainGyroscope.npy\")\n",
        "trainLinearAcceleration = np.load(path_train + \"trainLinearAcceleration.npy\")\n",
        "trainMagnetometer = np.load(path_train + \"trainMagnetometer.npy\")\n",
        "\n",
        "testLabels = np.load(path_test + \"testLabels.npy\")\n",
        "testMSAccelerometer = np.load(path_test + \"testMSAccelerometer.npy\")\n",
        "testMSGyroscope = np.load(path_test + \"testMSGyroscope.npy\")\n",
        "testJinsAccelerometer = np.load(path_test + \"testJinsAccelerometer.npy\")\n",
        "testJinsGyroscope = np.load(path_test + \"testJinsGyroscope.npy\")\n",
        "testAccelerometer = np.load(path_test + \"testAccelerometer.npy\")\n",
        "testGravity = np.load(path_test + \"testGravity.npy\")\n",
        "testGyroscope = np.load(path_test + \"testGyroscope.npy\")\n",
        "testLinearAcceleration = np.load(path_test + \"testLinearAcceleration.npy\")\n",
        "testMagnetometer = np.load(path_test + \"testMagnetometer.npy\")\n",
        "\n",
        "#print dimensions of all loaded nparrays\n",
        "\n",
        "print(trainMSAccelerometer.shape, trainMSGyroscope.shape, trainJinsAccelerometer.shape, trainJinsGyroscope.shape, trainAccelerometer.shape,\n",
        "      trainGravity.shape, trainGyroscope.shape, trainLinearAcceleration.shape, trainMagnetometer.shape, trainLabels.shape)\n",
        "\n",
        "print(testMSAccelerometer.shape, testMSGyroscope.shape, testJinsAccelerometer.shape, testJinsGyroscope.shape, testAccelerometer.shape,\n",
        "      testGravity.shape, testGyroscope.shape, testLinearAcceleration.shape, testMagnetometer.shape, testLabels.shape)"
      ],
      "metadata": {
        "colab": {
          "base_uri": "https://localhost:8080/"
        },
        "id": "C2yjBYyfedxO",
        "outputId": "91e74995-e2d6-4747-ba18-a266b2d8e870"
      },
      "execution_count": null,
      "outputs": [
        {
          "output_type": "stream",
          "name": "stdout",
          "text": [
            "(2284, 268, 3) (2284, 268, 3) (2284, 80, 3) (2284, 80, 3) (2284, 800, 3) (2284, 800, 3) (2284, 800, 3) (2284, 800, 3) (2284, 200, 3) (2284,)\n",
            "(2288, 268, 3) (2288, 268, 3) (2288, 80, 3) (2288, 80, 3) (2288, 800, 3) (2288, 800, 3) (2288, 800, 3) (2288, 800, 3) (2288, 200, 3) (2288,)\n"
          ]
        }
      ]
    },
    {
      "cell_type": "code",
      "source": [
        "print(trainLabels)\n",
        "print(testLabels)"
      ],
      "metadata": {
        "id": "v04TRD66lDLE",
        "outputId": "db8b90ea-7198-419e-b818-999416a977a5",
        "colab": {
          "base_uri": "https://localhost:8080/"
        }
      },
      "execution_count": null,
      "outputs": [
        {
          "output_type": "stream",
          "name": "stdout",
          "text": [
            "[47 47 22 ... 33 29 28]\n",
            "[17 10 34 ... 29 34 10]\n"
          ]
        }
      ]
    },
    {
      "cell_type": "code",
      "source": [
        "#create a list of file names\n",
        "test_list=[testAccelerometer,testGravity,testGyroscope,testJinsAccelerometer,\n",
        "      testJinsGyroscope,testLinearAcceleration,testMagnetometer,\n",
        "      testMSAccelerometer,testMSAccelerometer]\n",
        "\n",
        "train_list=[trainAccelerometer,trainGravity,trainGyroscope,trainJinsAccelerometer,\n",
        "      trainJinsGyroscope,trainLinearAcceleration,trainMagnetometer,\n",
        "      trainMSAccelerometer,trainMSAccelerometer]"
      ],
      "metadata": {
        "id": "WuoHukYCyR1s"
      },
      "execution_count": null,
      "outputs": []
    },
    {
      "cell_type": "code",
      "source": [
        "#Applying Normalization\n",
        "def Apply_Normalization(input_arr):\n",
        "  for i in range(0,3):\n",
        "    input_arr[:,:,i]=input_arr[:,:,i]/np.linalg.norm(input_arr[:,:,i])\n",
        "  return input_arr\n",
        "\n",
        "#normalize train dataset\n",
        "for file in train_list:\n",
        "  file=Apply_Normalization(file)\n",
        "#normalize test dataset\n",
        "for file in test_list:\n",
        "  file=Apply_Normalization(file)"
      ],
      "metadata": {
        "id": "HtKZoPVPdgrX"
      },
      "execution_count": null,
      "outputs": []
    },
    {
      "cell_type": "code",
      "source": [
        "print(trainMSAccelerometer.shape, trainMSGyroscope.shape, trainJinsAccelerometer.shape, trainJinsGyroscope.shape, trainAccelerometer.shape,\n",
        "      trainGravity.shape, trainGyroscope.shape, trainLinearAcceleration.shape, trainMagnetometer.shape)\n",
        "\n",
        "print(testMSAccelerometer.shape, testMSGyroscope.shape, testJinsAccelerometer.shape, testJinsGyroscope.shape, testAccelerometer.shape,\n",
        "      testGravity.shape, testGyroscope.shape, testLinearAcceleration.shape, testMagnetometer.shape)"
      ],
      "metadata": {
        "colab": {
          "base_uri": "https://localhost:8080/"
        },
        "id": "wJRFUi7_e42_",
        "outputId": "9ee43454-68ad-40a5-d7d9-820007fe7ec0"
      },
      "execution_count": null,
      "outputs": [
        {
          "output_type": "stream",
          "name": "stdout",
          "text": [
            "(2284, 268, 3) (2284, 268, 3) (2284, 80, 3) (2284, 80, 3) (2284, 800, 3) (2284, 800, 3) (2284, 800, 3) (2284, 800, 3) (2284, 200, 3)\n",
            "(2288, 268, 3) (2288, 268, 3) (2288, 80, 3) (2288, 80, 3) (2288, 800, 3) (2288, 800, 3) (2288, 800, 3) (2288, 800, 3) (2288, 200, 3)\n"
          ]
        }
      ]
    },
    {
      "cell_type": "code",
      "source": [
        "#create a new array that will contain extracted features\n",
        "#feaure extraction (mean, max, min, std, var, median, percentile 20, percentile 50, percentile 80, kurtosis, skewness, zero crossing, first mean, second mean)\n",
        "num_features = 14\n",
        "train_features = np.zeros((np.shape(trainLabels)[0], 9*num_features, 3))\n",
        "test_features = np.zeros((np.shape(testLabels)[0], 9*num_features, 3))\n",
        "\n",
        "print(np.shape(train_features))\n",
        "print(np.shape(test_features))"
      ],
      "metadata": {
        "colab": {
          "base_uri": "https://localhost:8080/"
        },
        "id": "C4y3Beieh4Ot",
        "outputId": "4d4c885b-6357-42e4-dd58-b99c61418728"
      },
      "execution_count": null,
      "outputs": [
        {
          "output_type": "stream",
          "name": "stdout",
          "text": [
            "(2284, 126, 3)\n",
            "(2288, 126, 3)\n"
          ]
        }
      ]
    },
    {
      "cell_type": "code",
      "source": [
        "\n",
        "\n",
        "def feature_extract(features, files, feature_index):\n",
        "    for file in files:\n",
        "        features[:, feature_index, :] = np.mean(file, axis=1)\n",
        "        features[:, feature_index + 1, :] = np.max(file, axis=1)\n",
        "        features[:, feature_index + 2, :] = np.min(file, axis=1)\n",
        "        features[:, feature_index + 3, :] = np.std(file, axis=1)\n",
        "        features[:, feature_index + 4, :] = np.var(file, axis=1)\n",
        "        features[:, feature_index + 5, :] = np.median(file, axis=1)\n",
        "        features[:, feature_index + 6, :] = np.percentile(file, 20, axis=1)\n",
        "        features[:, feature_index + 7, :] = np.percentile(file, 50, axis=1)\n",
        "        features[:, feature_index + 8, :] = np.percentile(file, 80, axis=1)\n",
        "        features[:, feature_index + 9, :] = kurtosis(file, axis=1)\n",
        "        features[:, feature_index + 10, :] = skew(file, axis=1)\n",
        "        features[:, feature_index + 11, :] = np.sum(np.diff(np.sign(file), axis=1) != 0, axis=1)\n",
        "        features[:, feature_index + 12, :] = np.mean(file, axis=1) #frist mean\n",
        "        features[:, feature_index + 13, :] = np.mean(file, axis=1)**2 #second mean\n",
        "        feature_index += 14\n",
        "\n",
        "feature_extract(train_features, train_list, 0)\n",
        "feature_extract(test_features, test_list, 0)\n",
        "\n",
        "print(np.shape(train_features))\n",
        "print(np.shape(test_features))\n",
        "\n",
        "print(train_features)\n",
        "print(test_features)\n"
      ],
      "metadata": {
        "colab": {
          "base_uri": "https://localhost:8080/"
        },
        "id": "48KbS5tWkx1H",
        "outputId": "8e0521a1-0ef4-4652-98a6-97ae6fa94609"
      },
      "execution_count": null,
      "outputs": [
        {
          "output_type": "stream",
          "name": "stderr",
          "text": [
            "<ipython-input-8-e96306533ccc>:12: RuntimeWarning: Precision loss occurred in moment calculation due to catastrophic cancellation. This occurs when the data are nearly identical. Results may be unreliable.\n",
            "  features[:, feature_index + 9, :] = kurtosis(file, axis=1)\n",
            "<ipython-input-8-e96306533ccc>:13: RuntimeWarning: Precision loss occurred in moment calculation due to catastrophic cancellation. This occurs when the data are nearly identical. Results may be unreliable.\n",
            "  features[:, feature_index + 10, :] = skew(file, axis=1)\n"
          ]
        },
        {
          "output_type": "stream",
          "name": "stdout",
          "text": [
            "(2284, 126, 3)\n",
            "(2288, 126, 3)\n",
            "[[[-8.56235056e-05  9.52838571e-04 -1.34265079e-04]\n",
            "  [ 1.11980026e-03  1.57776254e-03  6.46544679e-04]\n",
            "  [-1.32178178e-03  5.78874140e-04 -9.47633176e-04]\n",
            "  ...\n",
            "  [ 0.00000000e+00  0.00000000e+00  1.10000000e+01]\n",
            "  [ 1.91500934e-03  5.96664788e-04  1.01045909e-04]\n",
            "  [ 3.66726067e-06  3.56008883e-07  1.02102762e-08]]\n",
            "\n",
            " [[ 7.00020828e-05  9.55460826e-04 -1.33648922e-04]\n",
            "  [ 5.66039351e-04  1.37143978e-03  2.80281529e-04]\n",
            "  [-8.74843914e-04  7.65908393e-04 -6.33693358e-04]\n",
            "  ...\n",
            "  [ 0.00000000e+00  4.00000000e+00  1.70000000e+01]\n",
            "  [ 1.91298465e-03  6.42751926e-04 -1.27375490e-04]\n",
            "  [ 3.65951018e-06  4.13130039e-07  1.62245151e-08]]\n",
            "\n",
            " [[-3.17084850e-05  2.10744503e-04 -1.23783271e-03]\n",
            "  [ 9.45445354e-05  2.48367578e-04 -1.19609234e-03]\n",
            "  [-2.27152457e-04  1.81832802e-04 -1.26952853e-03]\n",
            "  ...\n",
            "  [ 1.00000000e+01  2.20000000e+01  0.00000000e+00]\n",
            "  [ 3.67557834e-04  8.24879564e-04  1.77300000e-03]\n",
            "  [ 1.35098759e-07  6.80426297e-07  3.14352906e-06]]\n",
            "\n",
            " ...\n",
            "\n",
            " [[-1.64224373e-04  9.31430375e-04 -2.91434553e-04]\n",
            "  [ 4.22994694e-04  1.38400984e-03  5.69130643e-05]\n",
            "  [-6.07172376e-04  6.98290009e-04 -7.30996311e-04]\n",
            "  ...\n",
            "  [ 0.00000000e+00  2.00000000e+00  1.20000000e+01]\n",
            "  [ 1.93987635e-03  4.20450815e-04  6.04132692e-05]\n",
            "  [ 3.76312028e-06  1.76778883e-07  3.64976316e-09]]\n",
            "\n",
            " [[-1.83276599e-03  6.74374343e-04  1.64868252e-05]\n",
            "  [-1.75459916e-03  7.02191028e-04  5.10993632e-05]\n",
            "  [-1.90746668e-03  6.51910668e-04 -3.30462972e-05]\n",
            "  ...\n",
            "  [ 0.00000000e+00  2.00000000e+00  0.00000000e+00]\n",
            "  [-6.07982452e-04  4.79961891e-04  2.16365117e-03]\n",
            "  [ 3.69642663e-07  2.30363412e-07  4.68138614e-06]]\n",
            "\n",
            " [[-8.88742215e-05  1.74346700e-04 -1.24468585e-03]\n",
            "  [ 3.68355313e-06  1.90718565e-04 -1.21108547e-03]\n",
            "  [-1.73127002e-04  1.54525376e-04 -1.27044646e-03]\n",
            "  ...\n",
            "  [ 0.00000000e+00  0.00000000e+00  0.00000000e+00]\n",
            "  [ 6.35603094e-04  5.53236285e-04  2.11662636e-03]\n",
            "  [ 4.03991294e-07  3.06070376e-07  4.48010724e-06]]]\n",
            "[[[ 1.49244932e-03  1.88917591e-04 -4.26642713e-04]\n",
            "  [ 3.68137308e-03  1.11611059e-03  4.17358708e-04]\n",
            "  [-6.09972980e-04 -8.71387834e-04 -1.54300872e-03]\n",
            "  ...\n",
            "  [ 3.00000000e+00  1.20000000e+01  4.00000000e+00]\n",
            "  [ 1.96434718e-04  5.89241565e-04  7.86153309e-04]\n",
            "  [ 3.85865988e-08  3.47205628e-07  6.18037006e-07]]\n",
            "\n",
            " [[ 2.12274084e-04  1.69338862e-04 -1.23894820e-03]\n",
            "  [ 2.66572140e-04  1.87912126e-04 -1.21430063e-03]\n",
            "  [ 1.60641721e-04  1.50548207e-04 -1.26304326e-03]\n",
            "  ...\n",
            "  [ 1.00000000e+00  0.00000000e+00  0.00000000e+00]\n",
            "  [-6.11076423e-04  1.47776026e-03  8.60654283e-04]\n",
            "  [ 3.73414395e-07  2.18377545e-06  7.40725795e-07]]\n",
            "\n",
            " [[ 3.71902279e-04  2.19639580e-04 -1.22356834e-03]\n",
            "  [ 4.75522800e-04  2.50403828e-04 -1.19845930e-03]\n",
            "  [ 2.41544622e-04  1.85071593e-04 -1.24963908e-03]\n",
            "  ...\n",
            "  [ 7.00000000e+00  0.00000000e+00  0.00000000e+00]\n",
            "  [-1.15802592e-04  1.59743056e-03  1.25869468e-03]\n",
            "  [ 1.34102400e-08  2.55178429e-06  1.58431226e-06]]\n",
            "\n",
            " ...\n",
            "\n",
            " [[-1.66977174e-04  9.71437083e-04  7.15969363e-05]\n",
            "  [-6.05316673e-05  9.90034663e-04  1.47141793e-04]\n",
            "  [-2.96255923e-04  9.56385280e-04  1.88877675e-05]\n",
            "  ...\n",
            "  [ 2.00000000e+00  0.00000000e+00  1.20000000e+01]\n",
            "  [ 5.15243155e-04  1.75281393e-03  4.36143659e-04]\n",
            "  [ 2.65475506e-07  3.07235678e-06  1.90221286e-07]]\n",
            "\n",
            " [[ 6.73663395e-04  1.10315850e-04 -1.20086537e-03]\n",
            "  [ 8.29982280e-04  1.65406367e-04 -1.09609985e-03]\n",
            "  [ 4.84835356e-04 -2.16754444e-04 -1.32062053e-03]\n",
            "  ...\n",
            "  [ 4.00000000e+00  0.00000000e+00  8.00000000e+00]\n",
            "  [ 1.16679847e-04  1.61050714e-03  1.05113210e-03]\n",
            "  [ 1.36141862e-08  2.59373314e-06  1.10487872e-06]]\n",
            "\n",
            " [[ 5.66382776e-04  9.56898497e-04 -3.91685171e-05]\n",
            "  [ 6.43148960e-04  9.67528962e-04 -1.34042220e-05]\n",
            "  [ 5.09862904e-04  9.42838145e-04 -7.49417813e-05]\n",
            "  ...\n",
            "  [ 0.00000000e+00  0.00000000e+00  0.00000000e+00]\n",
            "  [ 1.84408366e-03  5.17300388e-04  5.90096985e-04]\n",
            "  [ 3.40064457e-06  2.67599688e-07  3.48214456e-07]]]\n"
          ]
        }
      ]
    },
    {
      "cell_type": "code",
      "source": [
        "#Reshape the original numpy arrays\n",
        "train_features_reshaped = np.reshape(train_features, (np.shape(train_features)[0], np.shape(train_features)[1]*np.shape(train_features)[2] ))\n",
        "print(np.shape(train_features_reshaped))\n",
        "\n",
        "\n",
        "test_features_reshaped = np.reshape(test_features, (np.shape(test_features)[0], np.shape(test_features)[1]*np.shape(test_features)[2] ))\n",
        "print(np.shape(test_features_reshaped))\n",
        "\n",
        "print(train_features_reshaped)\n",
        "print(test_features_reshaped)"
      ],
      "metadata": {
        "colab": {
          "base_uri": "https://localhost:8080/"
        },
        "id": "W9sPrFGy2Atu",
        "outputId": "e1bae364-d925-4d1b-c608-908c05fd195a"
      },
      "execution_count": null,
      "outputs": [
        {
          "output_type": "stream",
          "name": "stdout",
          "text": [
            "(2284, 378)\n",
            "(2288, 378)\n",
            "[[-8.56235056e-05  9.52838571e-04 -1.34265079e-04 ...  3.66726067e-06\n",
            "   3.56008883e-07  1.02102762e-08]\n",
            " [ 7.00020828e-05  9.55460826e-04 -1.33648922e-04 ...  3.65951018e-06\n",
            "   4.13130039e-07  1.62245151e-08]\n",
            " [-3.17084850e-05  2.10744503e-04 -1.23783271e-03 ...  1.35098759e-07\n",
            "   6.80426297e-07  3.14352906e-06]\n",
            " ...\n",
            " [-1.64224373e-04  9.31430375e-04 -2.91434553e-04 ...  3.76312028e-06\n",
            "   1.76778883e-07  3.64976316e-09]\n",
            " [-1.83276599e-03  6.74374343e-04  1.64868252e-05 ...  3.69642663e-07\n",
            "   2.30363412e-07  4.68138614e-06]\n",
            " [-8.88742215e-05  1.74346700e-04 -1.24468585e-03 ...  4.03991294e-07\n",
            "   3.06070376e-07  4.48010724e-06]]\n",
            "[[ 1.49244932e-03  1.88917591e-04 -4.26642713e-04 ...  3.85865988e-08\n",
            "   3.47205628e-07  6.18037006e-07]\n",
            " [ 2.12274084e-04  1.69338862e-04 -1.23894820e-03 ...  3.73414395e-07\n",
            "   2.18377545e-06  7.40725795e-07]\n",
            " [ 3.71902279e-04  2.19639580e-04 -1.22356834e-03 ...  1.34102400e-08\n",
            "   2.55178429e-06  1.58431226e-06]\n",
            " ...\n",
            " [-1.66977174e-04  9.71437083e-04  7.15969363e-05 ...  2.65475506e-07\n",
            "   3.07235678e-06  1.90221286e-07]\n",
            " [ 6.73663395e-04  1.10315850e-04 -1.20086537e-03 ...  1.36141862e-08\n",
            "   2.59373314e-06  1.10487872e-06]\n",
            " [ 5.66382776e-04  9.56898497e-04 -3.91685171e-05 ...  3.40064457e-06\n",
            "   2.67599688e-07  3.48214456e-07]]\n"
          ]
        }
      ]
    },
    {
      "cell_type": "code",
      "source": [
        "\n",
        "# Replace null values with the minimum of the data\n",
        "min_value = np.nanmin(train_features_reshaped)\n",
        "train_features_reshaped[np.isnan(train_features_reshaped)] = min_value\n",
        "\n",
        "min_value = np.nanmin(test_features_reshaped)\n",
        "test_features_reshaped[np.isnan(test_features_reshaped)] = min_value\n",
        "\n",
        "# Create an instance of SVC\n",
        "classifier = SVC(kernel='linear', C=1.0)\n",
        "\n",
        "# Fit the model to the imputed training data\n",
        "classifier.fit(train_features_reshaped, trainLabels)\n",
        "\n",
        "# Make predictions on the imputed test data\n",
        "estimatedLabels = classifier.predict(test_features_reshaped)\n",
        "\n",
        "accuracy = accuracy_score(testLabels, estimatedLabels)\n",
        "recall = recall_score(testLabels, estimatedLabels, average='macro')\n",
        "weightedF1 = f1_score(testLabels, estimatedLabels, average='weighted')\n",
        "averageF1 = f1_score(testLabels, estimatedLabels, average='macro')\n",
        "conf_matrix = confusion_matrix(testLabels, estimatedLabels)\n",
        "\n",
        "# Print results\n",
        "print('   Average F1-score = %.4f' % (averageF1))\n",
        "print('   Test Recall = %.4f' % (recall * 100))\n",
        "print('   Test accuracy = %.2f %%' % (accuracy * 100))\n",
        "print('   Weighted F1-score = %.4f' % (weightedF1))\n",
        "print('   Confusion Matrix:')\n",
        "print(conf_matrix)\n",
        "\n",
        "print('-------------------------------------------------------')\n"
      ],
      "metadata": {
        "colab": {
          "base_uri": "https://localhost:8080/"
        },
        "id": "l0KwQA_D2PXc",
        "outputId": "b50dbacd-1d43-48da-9296-96320ecc7cf3"
      },
      "execution_count": null,
      "outputs": [
        {
          "output_type": "stream",
          "name": "stdout",
          "text": [
            "   Average F1-score = 0.3312\n",
            "   Test Recall = 33.6829\n",
            "   Test accuracy = 33.48 %\n",
            "   Weighted F1-score = 0.3309\n",
            "   Confusion Matrix:\n",
            "[[36  0  0 ...  0  0  0]\n",
            " [ 0 35  5 ...  0  0  0]\n",
            " [ 1  4 19 ...  1  3  0]\n",
            " ...\n",
            " [ 0  1  2 ...  7  0  1]\n",
            " [ 0  0  1 ...  0 11  0]\n",
            " [ 0  0  0 ...  0  0 12]]\n",
            "-------------------------------------------------------\n"
          ]
        }
      ]
    }
  ]
}